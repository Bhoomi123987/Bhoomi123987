{
  "nbformat": 4,
  "nbformat_minor": 0,
  "metadata": {
    "colab": {
      "provenance": []
    },
    "kernelspec": {
      "name": "python3",
      "display_name": "Python 3"
    },
    "language_info": {
      "name": "python"
    }
  },
  "cells": [
    {
      "cell_type": "code",
      "source": [
        "import pandas as pd\n",
        "from sklearn.impute import SimpleImputer\n",
        "from sklearn.tree import DecisionTreeClassifier\n",
        "from sklearn.ensemble import RandomForestClassifier, AdaBoostClassifier\n",
        "from sklearn.linear_model import LogisticRegression\n",
        "from sklearn.metrics import accuracy_score, precision_score, recall_score, f1_score\n",
        "\n",
        "try:\n",
        "    X_train = pd.read_csv('/content/x_train.csv', sep=\",\", header=None)\n",
        "    Y_train = pd.read_csv('/content/y_train.csv', sep=\",\", header=None)\n",
        "    X_test = pd.read_csv('/content/x_test.csv', sep=\",\", header=None)\n",
        "    Y_test = pd.read_csv('/content/y_test.csv', sep=\",\", header=None)\n",
        "except Exception as e:\n",
        "    print(f\"Error loading files: {e}\")\n",
        "    raise\n",
        "\n",
        "if X_train.empty or Y_train.empty or X_test.empty or Y_test.empty:\n",
        "    raise ValueError(\"One or more datasets are empty. Check file paths and delimiters.\")\n",
        "\n",
        "#classifier\n",
        "def evaluate_model(model, X_train, Y_train, X_test, Y_test):\n",
        "    model.fit(X_train, Y_train[0])\n",
        "    Y_pred = model.predict(X_test)\n",
        "\n",
        "    accuracy = accuracy_score(Y_test[0], Y_pred)\n",
        "    precision = precision_score(Y_test[0], Y_pred, average='weighted')\n",
        "    recall = recall_score(Y_test[0], Y_pred, average='weighted')\n",
        "    f1 = f1_score(Y_test[0], Y_pred, average='weighted')\n",
        "\n",
        "    return accuracy, precision, recall, f1\n",
        "\n",
        "# Decision Tree Classifier\n",
        "clf = DecisionTreeClassifier(random_state=42)\n",
        "accuracy, precision, recall, f1 = evaluate_model(clf, X_train, Y_train, X_test, Y_test)\n",
        "print(\"=== Decision Tree Classifier ===\")\n",
        "print(f\"Accuracy: {accuracy:.2f}\")\n",
        "print(f\"Precision: {precision:.2f}\")\n",
        "print(f\"Recall: {recall:.2f}\")\n",
        "print(f\"F1 Score: {f1:.2f}\")\n",
        "\n",
        "# Random Forest Classifier\n",
        "rf_model = RandomForestClassifier(random_state=42)\n",
        "accuracy, precision, recall, f1 = evaluate_model(rf_model, X_train, Y_train, X_test, Y_test)\n",
        "print(\"\\n=== Random Forest Classifier ===\")\n",
        "print(f\"Accuracy: {accuracy:.2f}\")\n",
        "print(f\"Precision: {precision:.2f}\")\n",
        "print(f\"Recall: {recall:.2f}\")\n",
        "print(f\"F1 Score: {f1:.2f}\")\n",
        "\n",
        "# Logistic Regression\n",
        "lr_model = LogisticRegression(max_iter=1000, random_state=42)\n",
        "accuracy, precision, recall, f1 = evaluate_model(lr_model, X_train, Y_train, X_test, Y_test)\n",
        "print(\"\\n=== Logistic Regression ===\")\n",
        "print(f\"Accuracy: {accuracy:.2f}\")\n",
        "print(f\"Precision: {precision:.2f}\")\n",
        "print(f\"Recall: {recall:.2f}\")\n",
        "print(f\"F1 Score: {f1:.2f}\")\n",
        "\n",
        "# AdaBoost Classifier\n",
        "ab_model = AdaBoostClassifier(random_state=42)\n",
        "accuracy, precision, recall, f1 = evaluate_model(ab_model, X_train, Y_train, X_test, Y_test)\n",
        "print(\"\\n=== AdaBoost Classifier ===\")\n",
        "print(f\"Accuracy: {accuracy:.2f}\")\n",
        "print(f\"Precision: {precision:.2f}\")\n",
        "print(f\"Recall: {recall:.2f}\")\n",
        "print(f\"F1 Score: {f1:.2f}\")"
      ],
      "metadata": {
        "colab": {
          "base_uri": "https://localhost:8080/"
        },
        "id": "DeQXE-qc3NOm",
        "outputId": "9f32cc6a-587e-4d29-c173-899dc0f49f82"
      },
      "execution_count": 21,
      "outputs": [
        {
          "output_type": "stream",
          "name": "stdout",
          "text": [
            "=== Decision Tree Classifier ===\n",
            "Accuracy: 0.85\n",
            "Precision: 0.85\n",
            "Recall: 0.85\n",
            "F1 Score: 0.85\n",
            "\n",
            "=== Random Forest Classifier ===\n",
            "Accuracy: 0.93\n",
            "Precision: 0.93\n",
            "Recall: 0.93\n",
            "F1 Score: 0.93\n",
            "\n",
            "=== Logistic Regression ===\n",
            "Accuracy: 0.96\n",
            "Precision: 0.96\n",
            "Recall: 0.96\n",
            "F1 Score: 0.96\n",
            "\n",
            "=== AdaBoost Classifier ===\n",
            "Accuracy: 0.35\n",
            "Precision: 0.15\n",
            "Recall: 0.35\n",
            "F1 Score: 0.21\n"
          ]
        },
        {
          "output_type": "stream",
          "name": "stderr",
          "text": [
            "/usr/local/lib/python3.10/dist-packages/sklearn/metrics/_classification.py:1565: UndefinedMetricWarning: Precision is ill-defined and being set to 0.0 in labels with no predicted samples. Use `zero_division` parameter to control this behavior.\n",
            "  _warn_prf(average, modifier, f\"{metric.capitalize()} is\", len(result))\n"
          ]
        }
      ]
    }
  ]
}